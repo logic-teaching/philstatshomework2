{
 "cells": [
  {
   "cell_type": "markdown",
   "metadata": {},
   "source": [
    "# Problem 2"
   ]
  },
  {
   "cell_type": "code",
   "execution_count": 1,
   "metadata": {
    "tags": [
     "hide-cell"
    ]
   },
   "outputs": [],
   "source": [
    "import numpy as np\n",
    "import math\n",
    "import pandas as pd\n",
    "from scipy.stats import norm, poisson, binom\n",
    "from tabulate import tabulate\n",
    "import matplotlib\n",
    "from IPython.display import display, Markdown\n",
    "import matplotlib.pyplot as plt   # load pyplot package\n",
    "import ipywidgets as widgets\n",
    "from ipywidgets import interact, interactive, fixed, interact_manual\n",
    "\n"
   ]
  },
  {
   "cell_type": "code",
   "execution_count": 2,
   "metadata": {
    "tags": [
     "hide-cell"
    ]
   },
   "outputs": [],
   "source": [
    "# size_sample_space, size_parameter_space are positive integers\n",
    "# prior is list of length size_parameter_space of non-negative numbers that sum to 1\n",
    "# likelihood is a list of length size_parameter_space \n",
    "# where each element is a list of length size_sample_space numbers that sum to 1\n",
    "\n",
    "def bayes(size_sample_space,size_parameter_space,prior,likelihood, xlim0, xlim1):\n",
    "  \n",
    "\n",
    "    sample_space = list(range(size_sample_space))\n",
    "\n",
    "    parameter_space = list(range(size_parameter_space))\n",
    "\n",
    "\n",
    "    max_value = max(max(sublist) for sublist in likelihood)\n",
    "\n",
    "\n",
    "    evidence =  []\n",
    "\n",
    "    for j in sample_space:\n",
    "        evidence.append(sum([prior[i]*likelihood[i][j] for i in parameter_space]))\n",
    "\n",
    "\n",
    "\n",
    "    posterior = [[None]*size_sample_space for _ in range(size_parameter_space)]\n",
    "\n",
    "    for i in parameter_space:\n",
    "        for j in sample_space:\n",
    "            posterior[i][j] = ((likelihood[i][j]*prior[i]) / evidence[j])\n",
    "\n",
    "\n",
    "    fig, axs = plt.subplots(1, 2, figsize=(10, 5))  # 1 row, 2 columns\n",
    "\n",
    "    for i in parameter_space:\n",
    "        axs[0].plot(sample_space, likelihood[i])\n",
    "    axs[0].plot(sample_space, evidence, '--', label='evidence', color='purple')        \n",
    "    axs[0].set_ylim(0, max_value)\n",
    "    axs[0].set_xlim(0, xlim0)    \n",
    "    axs[0].set_title('likelihood p(x | θ)')\n",
    "    axs[0].legend()\n",
    "    axs[0].legend(loc='upper right')\n",
    "\n",
    "    for i in parameter_space:\n",
    "        axs[1].plot(sample_space, posterior[i], label='θ_%i' % i) \n",
    "    axs[1].set_ylim(0, 1)\n",
    "    axs[1].set_title('posterior p(θ  | x)')\n",
    "    axs[1].set_xlim(0, xlim1)    \n",
    "\n",
    "    return posterior\n"
   ]
  },
  {
   "cell_type": "code",
   "execution_count": 3,
   "metadata": {
    "tags": [
     "hide-cell"
    ]
   },
   "outputs": [],
   "source": [
    "def bayes_binomials(n,m, prior):\n",
    "\n",
    "    my_sample_space = np.arange(0, n+1)\n",
    "\n",
    "    my_parameter_space = np.arange(0, m)\n",
    "\n",
    "    my_likelihood = [[None]*m for _ in range(m)]\n",
    "\n",
    "    for i in range(m):\n",
    "\n",
    "        my_likelihood[i] = binom.pmf(my_sample_space, n, (i+1)/(m+1))\n",
    "\n",
    "    bayes(n+1,m,prior,my_likelihood, n, n)\n"
   ]
  },
  {
   "cell_type": "code",
   "execution_count": 4,
   "metadata": {},
   "outputs": [],
   "source": [
    "def bayes_binomials_uniform_prior(n,m):\n",
    "\n",
    "    prior = [1/(m+1)]*(m)\n",
    "\n",
    "    bayes_binomials(n,m,prior)"
   ]
  },
  {
   "cell_type": "code",
   "execution_count": 6,
   "metadata": {},
   "outputs": [
    {
     "data": {
      "application/vnd.jupyter.widget-view+json": {
       "model_id": "5cd87a61e31d43bc92e434666a039c2c",
       "version_major": 2,
       "version_minor": 0
      },
      "text/plain": [
       "interactive(children=(IntSlider(value=250, description='n', max=500, min=1), IntSlider(value=50, description='…"
      ]
     },
     "execution_count": 6,
     "metadata": {},
     "output_type": "execute_result"
    }
   ],
   "source": [
    "interactive(bayes_binomials_uniform_prior, n=(1, 500), m=(1, 100))"
   ]
  },
  {
   "cell_type": "code",
   "execution_count": null,
   "metadata": {},
   "outputs": [],
   "source": []
  }
 ],
 "metadata": {
  "kernelspec": {
   "display_name": "Python 3",
   "language": "python",
   "name": "python3"
  },
  "language_info": {
   "codemirror_mode": {
    "name": "ipython",
    "version": 3
   },
   "file_extension": ".py",
   "mimetype": "text/x-python",
   "name": "python",
   "nbconvert_exporter": "python",
   "pygments_lexer": "ipython3",
   "version": "3.12.3"
  }
 },
 "nbformat": 4,
 "nbformat_minor": 2
}
