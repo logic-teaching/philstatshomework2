{
 "cells": [
  {
   "cell_type": "markdown",
   "metadata": {},
   "source": [
    "# Problem 9"
   ]
  },
  {
   "cell_type": "markdown",
   "metadata": {},
   "source": [
    "## Recalling and formatting the two types of errors\n",
    "\n",
    "Recall Type I and Type II errors:\n",
    "\n",
    "- Type I error: the null hypothesis is true but our test rejects it. This would be when we observe $T_n(\\omega)\\geq c$, where $\\omega$ is the actual world, and where the application of our rule leads us to mistakenly conclude that the null hypothesis is false.\n",
    "- Type II error: the null hypothesis is false but our test fails to reject it. This would be when we observe $T_n(\\omega)<c$, where $\\omega$ is the actual world, and so our test does not rule out the null hypothesis even though it is false."
   ]
  },
  {
   "cell_type": "markdown",
   "metadata": {},
   "source": [
    "Here is a diagram of the Type I and Type II errors:\n",
    "\n",
    "|          | $H_0$ false | $H_0$ true | \n",
    "| -------- | -------- | -------- | \n",
    "| Reject $H_0$    |    | Type I error \n",
    "| Fail to reject $H_0$    | Type II error   |\n",
    "\n",
    "It is conventional to let\n",
    "\n",
    "- $\\alpha$ be the probability of a Type I error \n",
    "- $\\beta$ be the probability of a Type II error\n",
    "\n",
    "Technically, $\\beta$ only makes sense once one has fixed a specific alternative to the null hypothesis, but is often used despite this. \n",
    "\n",
    "It is further conventional to call $1-\\beta$ the *power* of the test.\n",
    "\n",
    "Hence, with this notation in place, we can fill in the probabilities to the chart:\n",
    "\n",
    "|          | $H_0$ false | $H_0$ true | \n",
    "| -------- | -------- | -------- | \n",
    "| Reject $H_0$    |  $1-\\beta$ (power)  | Type I error $\\alpha$\n",
    "| Fail to reject $H_0$    | Type II error $\\beta$  | $1-\\alpha$\n",
    "\n",
    "Note that in evaluating these probabilities, we are conditioning on the column headers ($H_0$ false, $H_0$ true) rather than on the row headers. Hence, the values in each of the columns adds up to one. If we add one more row that highlights when the non-error happened in each column, we get:\n",
    "\n",
    "|          | $H_0$ false | $H_0$ true | \n",
    "| -------- | -------- | -------- | \n",
    "| Reject $H_0$    |  $1-\\beta$ (power)  | Type I error $\\alpha$\n",
    "| Fail to reject $H_0$    | Type II error $\\beta$  | $1-\\alpha$\n",
    "| The probability of non-error                        | $1-\\beta$ | $1-\\alpha$\n",
    "\n",
    "\n",
    "\n"
   ]
  },
  {
   "cell_type": "markdown",
   "metadata": {},
   "source": [
    "## Sensitivity and specificity"
   ]
  },
  {
   "cell_type": "markdown",
   "metadata": {},
   "source": [
    "In the analysis of medical diagonsis tests, there is a similar rubric with its own conventional terminology:\n",
    "\n",
    "|          | Condition positive | Condition negative | \n",
    "| -------- | -------- | -------- | \n",
    "| Test positive    |  True positive $TP$ | False positive $FP$\n",
    "| Test negative    | False negative $FN$ | True negative $TN$\n",
    "| The frequency of non-error                        | sensitivity $\\frac{TP}{TP+FN}$ | specificity $\\frac{TN}{FP+TN}$\n",
    "\n",
    "A couple of notes:\n",
    "\n",
    "- Unlike the above tables, the values $TP, FN, FP, TN$ are counts of outcomes and hence natural numbers rather than probabilities. \n",
    "\n",
    "- A test which has high sensitivity but low specificity has fewer false negatives but more false positives.\n",
    "\n",
    "- A test which has low sensitivity but high specificity has more false negatives and fewer false positives.  \n",
    "\n",
    "Here are some simple examples:\n",
    "\n",
    "1. Digital mammograms have high sensitivity but lower specificity (see [this paper](https://www.ncbi.nlm.nih.gov/pmc/articles/PMC5991925/))\n",
    "\n",
    "2. Over the counter covid tests have lower sensitivity but high specificity (see bottom of [this nytimes page](https://www.nytimes.com/wirecutter/reviews/at-home-covid-test-kits/))\n",
    "\n"
   ]
  },
  {
   "cell_type": "markdown",
   "metadata": {},
   "source": [
    "There are two options for this problem. \n",
    "\n",
    "Option 1: [Mayo's idea](https://logic-teaching.github.io/philstatsbook/Chap08.html#the-chief-virtue-of-mayo-s-account) is that one should defend the classical view by arguing that as a general rule, we should accept only those hypotheses which have undergone a severe test in the sense that they have low probability of a type I error. Under the above correspondence (borne out in part by Option 2), this would suggest that, as a general rule, we should accept only those hypotheses which have undergone a test with high specificity or a test with very few false positives. Write a 1 paragraph essay which evaluates whether this is plausible, bearing in mind that one will have to have a more expansive notion of \"condition\" that works outside of health contexts.\n",
    "\n",
    "Option 2: Given a medical diagnosis test as above with patients being the union of TP, FN, FP, TN, construct a hypothesis test \n",
    "\n",
    "- whose power $1-\\beta$ is the sensitivity of the diagnosis test\n",
    "- whose $1-\\alpha$ is the specificity of the diagnosis test. \n",
    "\n",
    "This shows that the hypothesis testing is a more general concept than the medical diagonsis case. \n",
    "\n",
    "*Hint (kind of an outline of a solution)*: make the sample space the union of the four sets  $TP$, $FN$, $FP$, $TN$ (draw a picture of them as four quadrants of a square). Let $X$ be the random variable which is $1$ on $TP\\cup FP$ and 0 on $FN\\cup TN$. Consider a two element parameter space $\\theta^-$ (condition negative) and $\\theta^+$ (condition positive). Define  \n",
    "\n",
    "- $p_{\\theta^-}(1)=\\frac{FP}{FP+TN}$ and $p_{\\theta^-}(0)=1-p_{\\theta^-}(1)$\n",
    "- $p_{\\theta^+}(0)=\\frac{FN}{TP+FN}$ and $p_{\\theta^+}(1)=1-p_{\\theta^+}(1)$.\n",
    "\n",
    "Consider the test $T\\geq c$, where $T=X$ and $c=1$, so that the test is $X\\geq 1$. Then show \n",
    "\n",
    "- if $X\\sim p_{\\theta^-}$ and $\\alpha=P(T\\geq c)$, then $1-\\alpha =  \\frac{TN}{FP+TN}$\n",
    "- if $X\\sim p_{\\theta^+}$ and $\\beta = P(T<c)$, then $1-\\beta = \\frac{TP}{TP+FN}$.\n",
    "\n",
    "*Optionally*, further show that there are probability measures $P^{-}$ and $P^+$ on the sample space such that $P^{-}(X=i)=p_{\\theta^-}(i)$ and $P^{+}(X=i)=p_{\\theta^+}(i)$ for $i=0,1$. Hint, for this, make $P^{-}$ and $P^+$ have probability zero on certain columns (as depicted in the four quadrants)."
   ]
  },
  {
   "cell_type": "markdown",
   "metadata": {},
   "source": []
  }
 ],
 "metadata": {
  "kernelspec": {
   "display_name": ".venv",
   "language": "python",
   "name": "python3"
  },
  "language_info": {
   "name": "python",
   "version": "3.12.3"
  }
 },
 "nbformat": 4,
 "nbformat_minor": 2
}
