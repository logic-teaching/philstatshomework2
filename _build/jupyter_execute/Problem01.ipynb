{
 "cells": [
  {
   "cell_type": "markdown",
   "metadata": {},
   "source": [
    "### Problem 1"
   ]
  },
  {
   "cell_type": "markdown",
   "metadata": {},
   "source": [
    "**First** a simple application of Bayes' Theorem, and has two parts. \n",
    "\n",
    "You start a new job and have to work with a new coworker on two projects, which are independent of one another.\n",
    "\n",
    "You start with a prior that 3/4 of people are unorganized. \n",
    "\n",
    "You further believe that organized people get their work in on time 4/5 of the time, while unorganized people get their work on time only 1/3 of the time. \n",
    "\n",
    "On each of your two projects, your worker gets their material in on time. \n",
    "\n",
    "What should be your posterior degree of belief that your coworker is organized? "
   ]
  },
  {
   "cell_type": "markdown",
   "metadata": {},
   "source": [
    "**Second**, explain how this can be conceived of as an application of Bayes' Theorem in the sense of \n",
    "\n",
    "$$p(\\theta \\mid x) = \\frac{p(x\\mid \\theta)\\cdot p(\\theta)}{p(x)}$$\n",
    "\n",
    "That is, explain what the random variable is, what the parameter space is, and what the sample space is."
   ]
  }
 ],
 "metadata": {
  "language_info": {
   "codemirror_mode": {
    "name": "ipython",
    "version": 3
   },
   "file_extension": ".py",
   "mimetype": "text/x-python",
   "name": "python",
   "nbconvert_exporter": "python",
   "pygments_lexer": "ipython3",
   "version": "3.11.7"
  }
 },
 "nbformat": 4,
 "nbformat_minor": 2
}