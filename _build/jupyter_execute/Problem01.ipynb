{
 "cells": [
  {
   "cell_type": "markdown",
   "metadata": {},
   "source": [
    "### Problem 1"
   ]
  },
  {
   "cell_type": "markdown",
   "metadata": {},
   "source": [
    "This is a simple application of Bayes' Theorem.\n",
    "\n",
    "**First** you start a new job and have to work with a specific coworker on two projects, which are independent of one another.\n",
    "\n",
    "You start with a prior that 3/4 of people are unorganized and 1/4 of people are organized.\n",
    "\n",
    "You further believe that unorganized people get their work in on time 1/3 of the time, while organized people get their work in on time 4/5 of the time.\n",
    "\n",
    "On each of your two projects, your coworker gets their part of the work in on time. \n",
    "\n",
    "What should be your posterior be in your coworker being organized? \n",
    "\n",
    "[For a large amount of partial credit, do it just in the case where there is one project]."
   ]
  },
  {
   "cell_type": "markdown",
   "metadata": {},
   "source": [
    "**Second**, explain how this can be conceived of as an application of Bayes' Theorem in the sense of \n",
    "\n",
    "$$p(\\theta \\mid x) = \\frac{p(x\\mid \\theta)\\cdot p(\\theta)}{p(x)}$$\n",
    "\n",
    "That is, explain in 4 complete English sentences:\n",
    "\n",
    "1. What the values of $x$ range over. \n",
    "2. What the values of $\\theta$ range over.\n",
    "3. Intuitively what the source of the prior is: mere degrees of belief, or related to frequencies and/or testimony and experience of some kind and if so what kind. \n",
    "4. Intuitively what the source of the likelihoods is: mere pdfs of some kind, or related to if-then statements of some kind and from some source and if so what kind.\n",
    "\n",
    "For 3-4, put yourself in the not unthinkinable shoes of the person described in the scenario and try to extrapolate on what one's thinking would be. \n",
    "\n",
    "The purpose of this example is to sensitize ourselves to the diversity of considerations that tend to enter into applications of Bayes' Theorem in practice, which belie simple stories told by Bayesians and their critics.\n"
   ]
  },
  {
   "cell_type": "markdown",
   "metadata": {},
   "source": []
  }
 ],
 "metadata": {
  "language_info": {
   "codemirror_mode": {
    "name": "ipython",
    "version": 3
   },
   "file_extension": ".py",
   "mimetype": "text/x-python",
   "name": "python",
   "nbconvert_exporter": "python",
   "pygments_lexer": "ipython3",
   "version": "3.12.0"
  }
 },
 "nbformat": 4,
 "nbformat_minor": 2
}