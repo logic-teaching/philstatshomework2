{
 "cells": [
  {
   "cell_type": "markdown",
   "metadata": {},
   "source": [
    "# Problems 2,3,4,5\n",
    "\n",
    "These problems involve an in-depth hands-on study of [Bayes' Theorem](https://logic-teaching.github.io/philstatsbook/Chap09.html#the-components-of-bayes-theorem)."
   ]
  },
  {
   "cell_type": "markdown",
   "metadata": {},
   "source": [
    "## Laplace's inference\n",
    "\n",
    "Laplace noted that, in Paris between 1745 and 1770, the number of female to male births was 241,945 to 251,527.\n",
    "\n",
    "Let $x = 241945$ and $n=241945+251527 =493472$, noting that $\\frac{x}{n} \\approx .4903$, so that about 49% of the observed births were female.\n",
    "\n",
    "Laplace applied Bayes' Theorem and concluded that, given that one observed $x$-many female births (success) in $n$-many (ostensibly) independent Bernoulli trials with probability $\\theta$, one could infer that the probability that $\\theta>\\frac{1}{2}$ was such an\n",
    "\n",
    "> excessively small number, that one could regard it as morally certain that the differences observed in Paris between the births of males and females is due to a much greater possibility of a male birth ({cite}`Laplace1778-km` p. 431; cited in {cite}`Stigler1990-bs` p. 134).\n",
    "\n",
    "Many of the below problems, particularly the mathematical parts of them, are mentioned and discussed in a standard text on Bayesianism, namely {cite}`Gelman2013-yi` pp. 31-32, 56, which is following {cite}`Stigler1990-bs` as far as the historical discussion goes.  Problems 2,3,4,5 are my attempt to make this kind of problem more accessible to philosophers.\n",
    "\n",
    "*Note 1*: if you don't like the female-male example, replace it with the number of successes in some other kind of trial.\n",
    "\n",
    "*Note 2*: this example was historically one of the first applications of Bayes' Theorem. From a cursory glance at [summaries based on more recent studies](https://ourworldindata.org/gender-ratio#the-sex-ratio-at-birth), Laplace's conclusion still holds up."
   ]
  },
  {
   "cell_type": "markdown",
   "metadata": {},
   "source": [
    "## Problem 2"
   ]
  },
  {
   "cell_type": "markdown",
   "metadata": {},
   "source": [
    "Here is the formal setup that we work with:\n",
    "\n",
    "- Suppose that $n,m\\geq 1$ are fixed.\n",
    "\n",
    "- Suppose that $X\\sim p_{\\theta}$, where $p_{\\theta}$ is $\\mathrm{Binom}(n,\\theta)$. \n",
    "\n",
    "- Suppose that $\\Theta= \\{\\frac{1}{m+1}, \\ldots, \\frac{m}{m+1}\\}$, so that it has $m$-elements.\n",
    "\n",
    "- Suppose that the prior is uniform, that is, $p(\\theta)=\\frac{1}{m}$."
   ]
  },
  {
   "cell_type": "markdown",
   "metadata": {},
   "source": [
    "To make it a little more concrete, note that:\n",
    "\n",
    "- Suppose that $m=3$ and $n\\geq 1$ is fixed.\n",
    "\n",
    "- $\\Theta = \\{\\frac{1}{4}, \\frac{1}{2}, \\frac{3}{4}\\}$ and one has $p_{\\frac{1}{4}}\\sim \\mathrm{Binom}(n,\\frac{1}{4})$ and  $p_{\\frac{1}{2}}\\sim \\mathrm{Binom}(n,\\frac{1}{2})$ and $p_{\\frac{3}{4}}\\sim \\mathrm{Binom}(n,\\frac{3}{4})$.\n",
    "\n",
    "- Hence we are dealing with $n$-flips of either a coin heavily biased towards tails, a fair coin, or a coin biased towards heads.\n",
    "\n",
    "- In general, when $m$ is odd, the fair coin will be in the parameter space, and will be depicted with its pdf centered in a bell-like shape at $\\frac{n}{2}$."
   ]
  },
  {
   "cell_type": "markdown",
   "metadata": {},
   "source": [
    "This problem has two parts. \n",
    "\n",
    "**First**, show that, since the prior is uniform, one can derive the following simplified version of Bayes' Theorem:\n",
    "\n",
    "$$p(\\theta \\mid x) = \\frac{p(x\\mid \\theta)}{\\sum_{\\theta\\in \\Theta} p(x\\mid \\theta)}$$\n",
    "\n",
    "Your answer should just be a proof with 1-2 lines."
   ]
  },
  {
   "cell_type": "markdown",
   "metadata": {},
   "source": [
    "Laplace described this version of Bayes' Theorem as follows:\n",
    "\n",
    "> If an event can be produced by a number of different causes, then the probabilities of these causes  given the event  are to each other as the probabilities of the event  given the causes , and the probability of the existence of each of these is equal to the probability of the event given the cause, divided by sum of each of these causes ({cite}`Laplace1774-st`, translation from {cite}`Stigler1990-bs` p. 102).\n",
    "\n",
    "**Second**, rewrite this quotation word-for-word but include the mathematical expressions $\\theta$, $\\Theta$, $x$, $p(x\\mid \\theta)$, $p(\\theta\\mid x)$, and $\\sum_{\\theta\\in \\Theta} p(x\\mid \\theta)$ where appropriate. The aim is simply to make sure that we see the correspondence between the mathematical formlism of Bayes' theorem (in the case of the uniform prior) and what its original developers thought it meant: they were clearly thinking of the elements of the parameter space as partially indicative of causes which reveal their effects through the sample space.\n",
    "\n"
   ]
  },
  {
   "cell_type": "markdown",
   "metadata": {},
   "source": [
    "## Before proceeding further\n",
    "\n",
    "Before proceeding further, please follow the following instructions:\n",
    "\n",
    "1. Click on the <i class=\"fa fa-rocket\" aria-hidden=\"true\"></i> icon at the top center-right, which will launch the page in a binder (experience suggests that Firefox and Chrome work best)\n",
    "\n",
    "2. After it loads (it takes about 3-5 minutes), use the menu bars to access:\n",
    "\n",
    "- View | Collapse All Code\n",
    "\n",
    "- Run | Run All Cells\n"
   ]
  },
  {
   "cell_type": "markdown",
   "metadata": {},
   "source": [
    "## Problem 3\n",
    "\n",
    "The below graph to the left shows two pieces of information:\n",
    "\n",
    "- For each element $\\theta$ of the parameter space, it displays its pdf, drawn in different colored lines. If a colored line is associated to $\\theta$, then for a value $x$ on the $x$-axis, the value of the colored line answers the question: if the random variable were distributed according to $p_{\\theta}$, then how probable it is that the random variable would take value $x$? Since we are dealing with Bernoulli distributions $\\mathrm{Binom}(n,\\theta)$, the possible values of $x$ are $0,1,2,\\ldots, n$, and they should be clustered in a bell like shape around $\\theta$. \n",
    "\n",
    "- The dotted purple line displays the evidence, that is $p(x)=\\sum_{\\theta\\in \\Theta} p(\\theta)\\cdot p(\\theta\\mid x)$. \n",
    "\n",
    "The graph in the center displays three pieces of interlinked information:\n",
    "\n",
    "- For each $x$ on the $x$-axis, it displays immediately above it the values of the posterior $p(\\theta\\mid x)$, as $\\theta$ ranges over the parameter space. Note that the values right above each $x$ thus sum to one. However, when one focuses on a fixed colored line associated to a specific parameter $\\theta$ and follows it from left to right as the values of $x$ get bigger, one is considering how the posterior $p(\\theta\\mid x)$ changes as a function of $x$.\n",
    "\n",
    "- It allows you to select a specific value of $x$ and focus on what is directly above it, marked with a dotted black line. This allows one to hone in the posterior $p(\\theta\\mid x)$ as $x$ is fixed and $\\theta$ is allowed to vary.\n",
    "\n",
    "- For the value of $x$ which you chose, it displays the top two highest values of $p(\\theta\\mid x)$ by building a horizontal line that takes one from this value over to the $y$-axis, so you can quickly tell by looking what these top two values are. The top value is in gold, and the second top value is in silver.\n",
    "\n",
    "The graph to the right displays one piece of information:\n",
    "\n",
    "- In addition to the $x$ that you already chose, it allows you to vary the choice of the parameter $\\iota=\\frac{i+1}{m+1}$ for $i=0, \\ldots, m-1$, by varying $i$: as you choose $i$ closer to $m$ you are choosing a parameter with a higher bias towards heads. The graph then displays the value $\\sum_{\\theta> \\iota} p(\\theta\\mid x)$, which is the probability, conditional on having observed that the random variable took value $x$, that the parameter is $>\\iota$, which we hence abbreviate as $Pr(\\theta> \\iota\\mid x)$."
   ]
  },
  {
   "cell_type": "code",
   "execution_count": 1,
   "metadata": {
    "tags": [
     "hide-cell"
    ]
   },
   "outputs": [],
   "source": [
    "import numpy as np\n",
    "import pandas as pd\n",
    "from scipy.stats import binom\n",
    "import matplotlib\n",
    "import matplotlib.pyplot as plt   \n",
    "import metakernel\n",
    "from IPython.display import display, Markdown, clear_output\n",
    "import ipywidgets as widgets    \n",
    "from ipywidgets import interact, interactive, fixed, interact_manual"
   ]
  },
  {
   "cell_type": "code",
   "execution_count": 2,
   "metadata": {
    "tags": [
     "hide-cell"
    ]
   },
   "outputs": [],
   "source": [
    "def find_two_largest_indices(list_of_lists, j):\n",
    "    # Convert the column at index j to a numpy array\n",
    "    column = np.array([row[j] for row in list_of_lists])\n",
    "\n",
    "    # Find the indices of the two largest values\n",
    "    indices = np.argpartition(column, -2)[-2:]\n",
    "\n",
    "    # Sort the indices so that the first index corresponds to the largest value\n",
    "    # and the second index corresponds to the second largest value\n",
    "    indices = indices[np.argsort(column[indices])][::-1]\n",
    "\n",
    "    return indices.tolist()"
   ]
  },
  {
   "cell_type": "code",
   "execution_count": 3,
   "metadata": {
    "tags": [
     "hide-cell"
    ]
   },
   "outputs": [],
   "source": [
    "# size_sample_space, size_parameter_space are positive integers\n",
    "# prior is list of length size_parameter_space of non-negative numbers that sum to 1\n",
    "# likelihood is a list of length size_parameter_space \n",
    "# where each element is a list of length size_sample_space numbers that sum to 1\n",
    "\n",
    "def bayes(size_sample_space,size_parameter_space,prior,likelihood, xlim0, xlim1, observed_value = None, ι = None):\n",
    "\n",
    "    sample_space = list(range(size_sample_space))\n",
    "\n",
    "    parameter_space = list(range(size_parameter_space))\n",
    "\n",
    "\n",
    "    max_value = max(max(sublist) for sublist in likelihood)\n",
    "\n",
    "\n",
    "    evidence =  []\n",
    "\n",
    "    for j in sample_space:\n",
    "        evidence.append(sum([prior[i]*likelihood[i][j] for i in parameter_space]))\n",
    "\n",
    "\n",
    "\n",
    "    posterior = [[None]*size_sample_space for _ in range(size_parameter_space)]\n",
    "\n",
    "    posteriorupvalue= [[None]*size_parameter_space for _ in range(size_sample_space)]\n",
    "\n",
    "    for i in parameter_space:\n",
    "        for j in sample_space:\n",
    "            posterior[i][j] = ((likelihood[i][j]*prior[i]) / (evidence[j]+ 1e-10))\n",
    "\n",
    "    for j in sample_space:\n",
    "        for i in parameter_space:\n",
    "            posteriorupvalue[j][i] = sum([posterior[i1][j] for i1 in parameter_space if i1 > i])\n",
    "\n",
    "    fig, axs = plt.subplots(1, 3, figsize=(10, 5))  # 1 row, 3 columns\n",
    "\n",
    "\n",
    "\n",
    "    for i in parameter_space:\n",
    "        line, = axs[0].plot(sample_space, likelihood[i])\n",
    "    axs[0].plot(sample_space, evidence, '--', label='evidence', color='purple')        \n",
    "    axs[0].set_ylim(0, max_value+max_value/10)\n",
    "    axs[0].set_xlim(0, xlim0)    \n",
    "    axs[0].set_title('likelihood p(x | $\\\\theta$)')\n",
    "    axs[0].legend()\n",
    "    axs[0].legend(loc='upper right')\n",
    "    axs[0].set_xticks(np.round(np.linspace(0, xlim1, num=11), 0))\n",
    "    axs[0].tick_params(axis='x', labelsize=5)          \n",
    "\n",
    "    for i in parameter_space:\n",
    "        axs[1].plot(sample_space, posterior[i]) \n",
    "    if observed_value != None:\n",
    "        axs[1].axvline(x=observed_value, color='black', linestyle='--', label='x')            \n",
    "        indices = find_two_largest_indices(posterior, observed_value)\n",
    "        axs[1].axhline(y=posterior[indices[0]][observed_value], color='#ffd700', linestyle='--', label='1st')  \n",
    "        axs[1].axhline(y=posterior[indices[1]][observed_value], color='#C0C0C0', linestyle='--', label='2nd')  \n",
    "    axs[1].legend()\n",
    "    axs[1].legend(loc='upper right')\n",
    "\n",
    "    axs[1].set_ylim(0, 1.1)\n",
    "    axs[1].set_title('posterior p($\\\\theta$  | x)')\n",
    "    axs[1].set_xlim(0, xlim1)    \n",
    "    axs[1].set_yticks([0, .1, .2, .3, .4, .5, .6, .7, .8, .9, 1])\n",
    "    axs[1].set_xticks(np.round(np.linspace(0, xlim1, num=11), 0))  \n",
    "    axs[1].tick_params(axis='x', labelsize=5)    \n",
    "\n",
    "    if ι != None:\n",
    "        axs[2].axvline(x=ι, color='g', linestyle='--', label='ι') \n",
    "        axs[2].axhline(y=posteriorupvalue[observed_value][ι], color='red', linestyle='--')               \n",
    "    axs[2].plot(parameter_space, posteriorupvalue[observed_value]) \n",
    "    axs[2].set_title('Pr($\\\\theta> \\\\iota$  | x), $\\\\iota$ is Binom(%i, %1.2f)' % (size_sample_space-1, (ι+1)/(size_parameter_space+1))) \n",
    "    axs[2].set_yticks([0, .1, .2, .3, .4, .5, .6, .7, .8, .9, 1])    \n",
    "    axs[2].legend()\n",
    "    axs[2].set_ylim(0, 1.1)    \n",
    "    axs[2].legend(loc='center right')    \n",
    "\n",
    "    return posterior\n",
    "\n"
   ]
  },
  {
   "cell_type": "code",
   "execution_count": 4,
   "metadata": {
    "tags": [
     "hide-cell"
    ]
   },
   "outputs": [],
   "source": [
    "def bayes_binomials(n,m, prior, observed_value = None, ι=None):\n",
    "\n",
    "    my_sample_space = np.arange(0, n+1)\n",
    "\n",
    "    my_parameter_space = np.arange(0, m)\n",
    "\n",
    "    my_likelihood = [[None]*m for _ in range(m)]\n",
    "\n",
    "    for i in range(m):\n",
    "\n",
    "        my_likelihood[i] = binom.pmf(my_sample_space, n, (i+1)/(m+1))\n",
    "\n",
    "    bayes(n+1,m,prior,my_likelihood, n, n, observed_value, ι)\n"
   ]
  },
  {
   "cell_type": "code",
   "execution_count": 5,
   "metadata": {
    "tags": [
     "hide-cell"
    ]
   },
   "outputs": [],
   "source": [
    "def bayes_binomials_uniform_prior(n,m, x = None, ι = None):\n",
    "\n",
    "    prior = [1/(m+1)]*(m)\n",
    "\n",
    "    bayes_binomials(n,m,prior, x, ι)"
   ]
  },
  {
   "cell_type": "code",
   "execution_count": 6,
   "metadata": {
    "tags": [
     "hide-input"
    ]
   },
   "outputs": [
    {
     "data": {
      "application/vnd.jupyter.widget-view+json": {
       "model_id": "5ba5b124d0d149afb4366f27e60da49f",
       "version_major": 2,
       "version_minor": 0
      },
      "text/plain": [
       "interactive(children=(IntSlider(value=100, description='n', max=5000, min=1), IntSlider(value=9, description='…"
      ]
     },
     "metadata": {},
     "output_type": "display_data"
    },
    {
     "data": {
      "text/plain": [
       "<function __main__.bayes_binomials_uniform_prior(n, m, x=None, ι=None)>"
      ]
     },
     "execution_count": 6,
     "metadata": {},
     "output_type": "execute_result"
    }
   ],
   "source": [
    "def update_x_range(*args):\n",
    "    x_slider.max = n_slider.value\n",
    "\n",
    "def update_ι_range(*args):\n",
    "    ι_slider.max = m_slider.value - 1\n",
    "\n",
    "n_slider = widgets.IntSlider(min=1, max=5000, step=1, value=100)\n",
    "m_slider = widgets.IntSlider(min=1, max=99, step=1, value=9)\n",
    "x_slider = widgets.IntSlider(min=1, max=n_slider.value, step=1, value=40)\n",
    "ι_slider = widgets.IntSlider(min=1, max=m_slider.value - 1, step=0, value=3)\n",
    "\n",
    "n_slider.observe(update_x_range, 'value')\n",
    "m_slider.observe(update_ι_range, 'value')\n",
    "\n",
    "interact(bayes_binomials_uniform_prior, n=n_slider, m=m_slider, x=x_slider, ι=ι_slider)"
   ]
  },
  {
   "cell_type": "markdown",
   "metadata": {},
   "source": [
    "Answer the following questions in 1-2 complete English sentences each:\n",
    "\n",
    "1. Why does increasing the value of $n$ make the bell-like shapes of the posterior change into more rectangle-like shapes? \n",
    "\n",
    "2. Why does increasing the value of $m$ lower the posterior? \n",
    "\n",
    "3. For small values of $n,m$ (say $n=100$ and $m=9$), as one increases the value of $x$ the difference between the gold and silver horizontal lines fluctuates. Why is this? \n",
    "\n",
    "(Note: you will only be able to change the values once you moved to the binder)."
   ]
  },
  {
   "cell_type": "markdown",
   "metadata": {},
   "source": [
    "## Problem 4\n",
    "\n",
    "For each of the following three settings, write down $Pr(\\theta>\\iota\\mid x)$ and $Binom(n,\\theta)$ from the rightmost graph:\n",
    "\n",
    "1. $n=500$, $m=9$, $x=244$ (approximately 49% of 500), and $\\iota = 4$.\n",
    "\n",
    "2. $n=5000$, $m=9$, $x=2450$ (approximately 49% of 5000), and $\\iota = 4$.\n",
    "\n",
    "3. $n=5000$, $m=99$, $x=2450$ (approximately 49% of 5000), and $\\iota = 49$.\n",
    "\n",
    "In a paragraph (4-5 sentences), describe whether this on the whole supports Laplace's conclusion or not.\n",
    "\n",
    "*Note 1*: we used $n=5000$ as our maximum because if we tried Laplace's actual number our machine would take about 5-10 minutes to do it. If you want to try just type the following in a new cell and press shift return and wait 5-10 minutes (note that if you do this, the above graph is going to become non-responsive):\n",
    "\n",
    "```\n",
    "bayes_binomials_uniform_prior(241945+251527, 99, 241945, 49)\n",
    "```\n",
    "\n",
    "*Note 2*: For all these numbers $n,m,x,\\iota$, the toggles might only allow you to get within a small range of these values; don't worry about that, just get as close as you can.\n",
    "\n",
    "*Note 3*: note that\n",
    "\n",
    "- the value $Pr(\\theta>\\iota\\mid x)$ is the place where the red line meets the $y$-axis; just eyeball it.\n",
    "\n",
    "- the values of $n,\\theta$ are displayed in the title $\\iota \\sim Binom(n,\\theta)$.\n"
   ]
  },
  {
   "cell_type": "code",
   "execution_count": null,
   "metadata": {},
   "outputs": [],
   "source": []
  },
  {
   "cell_type": "markdown",
   "metadata": {},
   "source": [
    "## Problem 5\n",
    "\n",
    "Laplace's inference can be compactly expressed as follows:\n",
    "\n",
    "1. Since 49% of observed births in a large sample are female, it is morally certain that it there is a much greater possibility of male birth.\n",
    "\n",
    "Many of our inferences are contrastive in nature. Consider the following variations:\n",
    "\n",
    "2. Since 49% of observed births in a large sample  are female, it is significantly more plausible that there is much greater possibility of male birth than that our data was generated by a fluke of measurement. \n",
    "\n",
    "3. Since 49% of observed births in a large sample  are female, it is significantly more plausible that there is much greater possibility of male birth than that there is a much greater possibility of female birth.\n",
    "\n",
    "4. Since 49% of *observed past* births in a large sample  are female, it is significantly plausible that 49% of *unobserved future* births are female. \n",
    "\n",
    "In a paragraph (4-5 sentences), indicate whether you think that any of 2, 3, or 4 (and if so which one) is a good representation of Laplace's inference in 1."
   ]
  },
  {
   "cell_type": "markdown",
   "metadata": {},
   "source": []
  }
 ],
 "metadata": {
  "kernelspec": {
   "display_name": "Python 3",
   "language": "python",
   "name": "python3"
  },
  "language_info": {
   "codemirror_mode": {
    "name": "ipython",
    "version": 3
   },
   "file_extension": ".py",
   "mimetype": "text/x-python",
   "name": "python",
   "nbconvert_exporter": "python",
   "pygments_lexer": "ipython3",
   "version": "3.11.7"
  },
  "widgets": {
   "application/vnd.jupyter.widget-state+json": {
    "state": {
     "17d4265e3b93460ab48782480d84efe0": {
      "model_module": "@jupyter-widgets/base",
      "model_module_version": "1.2.0",
      "model_name": "LayoutModel",
      "state": {
       "_model_module": "@jupyter-widgets/base",
       "_model_module_version": "1.2.0",
       "_model_name": "LayoutModel",
       "_view_count": null,
       "_view_module": "@jupyter-widgets/base",
       "_view_module_version": "1.2.0",
       "_view_name": "LayoutView",
       "align_content": null,
       "align_items": null,
       "align_self": null,
       "border": null,
       "bottom": null,
       "display": null,
       "flex": null,
       "flex_flow": null,
       "grid_area": null,
       "grid_auto_columns": null,
       "grid_auto_flow": null,
       "grid_auto_rows": null,
       "grid_column": null,
       "grid_gap": null,
       "grid_row": null,
       "grid_template_areas": null,
       "grid_template_columns": null,
       "grid_template_rows": null,
       "height": null,
       "justify_content": null,
       "justify_items": null,
       "left": null,
       "margin": null,
       "max_height": null,
       "max_width": null,
       "min_height": null,
       "min_width": null,
       "object_fit": null,
       "object_position": null,
       "order": null,
       "overflow": null,
       "overflow_x": null,
       "overflow_y": null,
       "padding": null,
       "right": null,
       "top": null,
       "visibility": null,
       "width": null
      }
     },
     "1960268f7e264b1887bcfd53cadfe065": {
      "model_module": "@jupyter-widgets/controls",
      "model_module_version": "1.5.0",
      "model_name": "SliderStyleModel",
      "state": {
       "_model_module": "@jupyter-widgets/controls",
       "_model_module_version": "1.5.0",
       "_model_name": "SliderStyleModel",
       "_view_count": null,
       "_view_module": "@jupyter-widgets/base",
       "_view_module_version": "1.2.0",
       "_view_name": "StyleView",
       "description_width": "",
       "handle_color": null
      }
     },
     "1c9202629c3c424a888a493f38c61ca0": {
      "model_module": "@jupyter-widgets/base",
      "model_module_version": "1.2.0",
      "model_name": "LayoutModel",
      "state": {
       "_model_module": "@jupyter-widgets/base",
       "_model_module_version": "1.2.0",
       "_model_name": "LayoutModel",
       "_view_count": null,
       "_view_module": "@jupyter-widgets/base",
       "_view_module_version": "1.2.0",
       "_view_name": "LayoutView",
       "align_content": null,
       "align_items": null,
       "align_self": null,
       "border": null,
       "bottom": null,
       "display": null,
       "flex": null,
       "flex_flow": null,
       "grid_area": null,
       "grid_auto_columns": null,
       "grid_auto_flow": null,
       "grid_auto_rows": null,
       "grid_column": null,
       "grid_gap": null,
       "grid_row": null,
       "grid_template_areas": null,
       "grid_template_columns": null,
       "grid_template_rows": null,
       "height": null,
       "justify_content": null,
       "justify_items": null,
       "left": null,
       "margin": null,
       "max_height": null,
       "max_width": null,
       "min_height": null,
       "min_width": null,
       "object_fit": null,
       "object_position": null,
       "order": null,
       "overflow": null,
       "overflow_x": null,
       "overflow_y": null,
       "padding": null,
       "right": null,
       "top": null,
       "visibility": null,
       "width": null
      }
     },
     "34de56c8a28449c1ac4853e7c4adb276": {
      "model_module": "@jupyter-widgets/controls",
      "model_module_version": "1.5.0",
      "model_name": "IntSliderModel",
      "state": {
       "_dom_classes": [],
       "_model_module": "@jupyter-widgets/controls",
       "_model_module_version": "1.5.0",
       "_model_name": "IntSliderModel",
       "_view_count": null,
       "_view_module": "@jupyter-widgets/controls",
       "_view_module_version": "1.5.0",
       "_view_name": "IntSliderView",
       "continuous_update": true,
       "description": "n",
       "description_tooltip": null,
       "disabled": false,
       "layout": "IPY_MODEL_dcca12f95bf3442c857b03f8fea6588e",
       "max": 5000,
       "min": 1,
       "orientation": "horizontal",
       "readout": true,
       "readout_format": "d",
       "step": 1,
       "style": "IPY_MODEL_cf2fed4aaab9425aac9d9c163561a725",
       "value": 100
      }
     },
     "51b5118bd8dc410bab39b2c12b3c6d9e": {
      "model_module": "@jupyter-widgets/base",
      "model_module_version": "1.2.0",
      "model_name": "LayoutModel",
      "state": {
       "_model_module": "@jupyter-widgets/base",
       "_model_module_version": "1.2.0",
       "_model_name": "LayoutModel",
       "_view_count": null,
       "_view_module": "@jupyter-widgets/base",
       "_view_module_version": "1.2.0",
       "_view_name": "LayoutView",
       "align_content": null,
       "align_items": null,
       "align_self": null,
       "border": null,
       "bottom": null,
       "display": null,
       "flex": null,
       "flex_flow": null,
       "grid_area": null,
       "grid_auto_columns": null,
       "grid_auto_flow": null,
       "grid_auto_rows": null,
       "grid_column": null,
       "grid_gap": null,
       "grid_row": null,
       "grid_template_areas": null,
       "grid_template_columns": null,
       "grid_template_rows": null,
       "height": null,
       "justify_content": null,
       "justify_items": null,
       "left": null,
       "margin": null,
       "max_height": null,
       "max_width": null,
       "min_height": null,
       "min_width": null,
       "object_fit": null,
       "object_position": null,
       "order": null,
       "overflow": null,
       "overflow_x": null,
       "overflow_y": null,
       "padding": null,
       "right": null,
       "top": null,
       "visibility": null,
       "width": null
      }
     },
     "5ba5b124d0d149afb4366f27e60da49f": {
      "model_module": "@jupyter-widgets/controls",
      "model_module_version": "1.5.0",
      "model_name": "VBoxModel",
      "state": {
       "_dom_classes": [
        "widget-interact"
       ],
       "_model_module": "@jupyter-widgets/controls",
       "_model_module_version": "1.5.0",
       "_model_name": "VBoxModel",
       "_view_count": null,
       "_view_module": "@jupyter-widgets/controls",
       "_view_module_version": "1.5.0",
       "_view_name": "VBoxView",
       "box_style": "",
       "children": [
        "IPY_MODEL_34de56c8a28449c1ac4853e7c4adb276",
        "IPY_MODEL_b3e44807c41b4a0d9909e01a7deeec33",
        "IPY_MODEL_8fee150ec51a40ad9642e89aaa7284e8",
        "IPY_MODEL_85d9aabd43b24264b743e555a4ea84a9",
        "IPY_MODEL_d4296f02cf6741f3856696134eac7fcc"
       ],
       "layout": "IPY_MODEL_6192cec704a94b32b8eaf5c51fdf5762"
      }
     },
     "6192cec704a94b32b8eaf5c51fdf5762": {
      "model_module": "@jupyter-widgets/base",
      "model_module_version": "1.2.0",
      "model_name": "LayoutModel",
      "state": {
       "_model_module": "@jupyter-widgets/base",
       "_model_module_version": "1.2.0",
       "_model_name": "LayoutModel",
       "_view_count": null,
       "_view_module": "@jupyter-widgets/base",
       "_view_module_version": "1.2.0",
       "_view_name": "LayoutView",
       "align_content": null,
       "align_items": null,
       "align_self": null,
       "border": null,
       "bottom": null,
       "display": null,
       "flex": null,
       "flex_flow": null,
       "grid_area": null,
       "grid_auto_columns": null,
       "grid_auto_flow": null,
       "grid_auto_rows": null,
       "grid_column": null,
       "grid_gap": null,
       "grid_row": null,
       "grid_template_areas": null,
       "grid_template_columns": null,
       "grid_template_rows": null,
       "height": null,
       "justify_content": null,
       "justify_items": null,
       "left": null,
       "margin": null,
       "max_height": null,
       "max_width": null,
       "min_height": null,
       "min_width": null,
       "object_fit": null,
       "object_position": null,
       "order": null,
       "overflow": null,
       "overflow_x": null,
       "overflow_y": null,
       "padding": null,
       "right": null,
       "top": null,
       "visibility": null,
       "width": null
      }
     },
     "8521a88e0d474691a17f2f9241b28dfa": {
      "model_module": "@jupyter-widgets/controls",
      "model_module_version": "1.5.0",
      "model_name": "SliderStyleModel",
      "state": {
       "_model_module": "@jupyter-widgets/controls",
       "_model_module_version": "1.5.0",
       "_model_name": "SliderStyleModel",
       "_view_count": null,
       "_view_module": "@jupyter-widgets/base",
       "_view_module_version": "1.2.0",
       "_view_name": "StyleView",
       "description_width": "",
       "handle_color": null
      }
     },
     "85d9aabd43b24264b743e555a4ea84a9": {
      "model_module": "@jupyter-widgets/controls",
      "model_module_version": "1.5.0",
      "model_name": "IntSliderModel",
      "state": {
       "_dom_classes": [],
       "_model_module": "@jupyter-widgets/controls",
       "_model_module_version": "1.5.0",
       "_model_name": "IntSliderModel",
       "_view_count": null,
       "_view_module": "@jupyter-widgets/controls",
       "_view_module_version": "1.5.0",
       "_view_name": "IntSliderView",
       "continuous_update": true,
       "description": "ι",
       "description_tooltip": null,
       "disabled": false,
       "layout": "IPY_MODEL_904eb5fdb80143bfb21321182d62282a",
       "max": 8,
       "min": 1,
       "orientation": "horizontal",
       "readout": true,
       "readout_format": "d",
       "step": 0,
       "style": "IPY_MODEL_ea4988cb7c1045b5b454e0b80418577b",
       "value": 3
      }
     },
     "8fee150ec51a40ad9642e89aaa7284e8": {
      "model_module": "@jupyter-widgets/controls",
      "model_module_version": "1.5.0",
      "model_name": "IntSliderModel",
      "state": {
       "_dom_classes": [],
       "_model_module": "@jupyter-widgets/controls",
       "_model_module_version": "1.5.0",
       "_model_name": "IntSliderModel",
       "_view_count": null,
       "_view_module": "@jupyter-widgets/controls",
       "_view_module_version": "1.5.0",
       "_view_name": "IntSliderView",
       "continuous_update": true,
       "description": "x",
       "description_tooltip": null,
       "disabled": false,
       "layout": "IPY_MODEL_51b5118bd8dc410bab39b2c12b3c6d9e",
       "max": 100,
       "min": 1,
       "orientation": "horizontal",
       "readout": true,
       "readout_format": "d",
       "step": 1,
       "style": "IPY_MODEL_8521a88e0d474691a17f2f9241b28dfa",
       "value": 40
      }
     },
     "904eb5fdb80143bfb21321182d62282a": {
      "model_module": "@jupyter-widgets/base",
      "model_module_version": "1.2.0",
      "model_name": "LayoutModel",
      "state": {
       "_model_module": "@jupyter-widgets/base",
       "_model_module_version": "1.2.0",
       "_model_name": "LayoutModel",
       "_view_count": null,
       "_view_module": "@jupyter-widgets/base",
       "_view_module_version": "1.2.0",
       "_view_name": "LayoutView",
       "align_content": null,
       "align_items": null,
       "align_self": null,
       "border": null,
       "bottom": null,
       "display": null,
       "flex": null,
       "flex_flow": null,
       "grid_area": null,
       "grid_auto_columns": null,
       "grid_auto_flow": null,
       "grid_auto_rows": null,
       "grid_column": null,
       "grid_gap": null,
       "grid_row": null,
       "grid_template_areas": null,
       "grid_template_columns": null,
       "grid_template_rows": null,
       "height": null,
       "justify_content": null,
       "justify_items": null,
       "left": null,
       "margin": null,
       "max_height": null,
       "max_width": null,
       "min_height": null,
       "min_width": null,
       "object_fit": null,
       "object_position": null,
       "order": null,
       "overflow": null,
       "overflow_x": null,
       "overflow_y": null,
       "padding": null,
       "right": null,
       "top": null,
       "visibility": null,
       "width": null
      }
     },
     "b3e44807c41b4a0d9909e01a7deeec33": {
      "model_module": "@jupyter-widgets/controls",
      "model_module_version": "1.5.0",
      "model_name": "IntSliderModel",
      "state": {
       "_dom_classes": [],
       "_model_module": "@jupyter-widgets/controls",
       "_model_module_version": "1.5.0",
       "_model_name": "IntSliderModel",
       "_view_count": null,
       "_view_module": "@jupyter-widgets/controls",
       "_view_module_version": "1.5.0",
       "_view_name": "IntSliderView",
       "continuous_update": true,
       "description": "m",
       "description_tooltip": null,
       "disabled": false,
       "layout": "IPY_MODEL_1c9202629c3c424a888a493f38c61ca0",
       "max": 99,
       "min": 1,
       "orientation": "horizontal",
       "readout": true,
       "readout_format": "d",
       "step": 1,
       "style": "IPY_MODEL_1960268f7e264b1887bcfd53cadfe065",
       "value": 9
      }
     },
     "cf2fed4aaab9425aac9d9c163561a725": {
      "model_module": "@jupyter-widgets/controls",
      "model_module_version": "1.5.0",
      "model_name": "SliderStyleModel",
      "state": {
       "_model_module": "@jupyter-widgets/controls",
       "_model_module_version": "1.5.0",
       "_model_name": "SliderStyleModel",
       "_view_count": null,
       "_view_module": "@jupyter-widgets/base",
       "_view_module_version": "1.2.0",
       "_view_name": "StyleView",
       "description_width": "",
       "handle_color": null
      }
     },
     "d4296f02cf6741f3856696134eac7fcc": {
      "model_module": "@jupyter-widgets/output",
      "model_module_version": "1.0.0",
      "model_name": "OutputModel",
      "state": {
       "_dom_classes": [],
       "_model_module": "@jupyter-widgets/output",
       "_model_module_version": "1.0.0",
       "_model_name": "OutputModel",
       "_view_count": null,
       "_view_module": "@jupyter-widgets/output",
       "_view_module_version": "1.0.0",
       "_view_name": "OutputView",
       "layout": "IPY_MODEL_17d4265e3b93460ab48782480d84efe0",
       "msg_id": "",
       "outputs": [
        {
         "data": {
          "image/png": "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",
          "text/plain": "<Figure size 1000x500 with 3 Axes>"
         },
         "metadata": {},
         "output_type": "display_data"
        }
       ]
      }
     },
     "dcca12f95bf3442c857b03f8fea6588e": {
      "model_module": "@jupyter-widgets/base",
      "model_module_version": "1.2.0",
      "model_name": "LayoutModel",
      "state": {
       "_model_module": "@jupyter-widgets/base",
       "_model_module_version": "1.2.0",
       "_model_name": "LayoutModel",
       "_view_count": null,
       "_view_module": "@jupyter-widgets/base",
       "_view_module_version": "1.2.0",
       "_view_name": "LayoutView",
       "align_content": null,
       "align_items": null,
       "align_self": null,
       "border": null,
       "bottom": null,
       "display": null,
       "flex": null,
       "flex_flow": null,
       "grid_area": null,
       "grid_auto_columns": null,
       "grid_auto_flow": null,
       "grid_auto_rows": null,
       "grid_column": null,
       "grid_gap": null,
       "grid_row": null,
       "grid_template_areas": null,
       "grid_template_columns": null,
       "grid_template_rows": null,
       "height": null,
       "justify_content": null,
       "justify_items": null,
       "left": null,
       "margin": null,
       "max_height": null,
       "max_width": null,
       "min_height": null,
       "min_width": null,
       "object_fit": null,
       "object_position": null,
       "order": null,
       "overflow": null,
       "overflow_x": null,
       "overflow_y": null,
       "padding": null,
       "right": null,
       "top": null,
       "visibility": null,
       "width": null
      }
     },
     "ea4988cb7c1045b5b454e0b80418577b": {
      "model_module": "@jupyter-widgets/controls",
      "model_module_version": "1.5.0",
      "model_name": "SliderStyleModel",
      "state": {
       "_model_module": "@jupyter-widgets/controls",
       "_model_module_version": "1.5.0",
       "_model_name": "SliderStyleModel",
       "_view_count": null,
       "_view_module": "@jupyter-widgets/base",
       "_view_module_version": "1.2.0",
       "_view_name": "StyleView",
       "description_width": "",
       "handle_color": null
      }
     }
    },
    "version_major": 2,
    "version_minor": 0
   }
  }
 },
 "nbformat": 4,
 "nbformat_minor": 2
}