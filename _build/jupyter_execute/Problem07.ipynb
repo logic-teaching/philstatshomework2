{
 "cells": [
  {
   "cell_type": "markdown",
   "metadata": {},
   "source": [
    "# Problem 7"
   ]
  },
  {
   "cell_type": "markdown",
   "metadata": {},
   "source": [
    "Consider the following objection to the Bayesian \"washing out of the priors\" response:\n",
    "\n",
    "- If the claim is that is that in the limit the differences between the priors goes to zero, then this is not relevant for our beliefs and actions, since those happen at specific stages of our inquiry and not in the limit.\n",
    "\n",
    "- If the claim is that in a great many cases the differences between the priors is small, then this does not deliver the requisite type of assurance since \"a great many\" is not \"all\" and anything can happen at finite stages.\n",
    "\n",
    "Write a short 1 paragraph esssay which responds to this objection on behalf of the Bayesian. "
   ]
  }
 ],
 "metadata": {
  "kernelspec": {
   "display_name": ".venv",
   "language": "python",
   "name": "python3"
  },
  "language_info": {
   "codemirror_mode": {
    "name": "ipython",
    "version": 3
   },
   "file_extension": ".py",
   "mimetype": "text/x-python",
   "name": "python",
   "nbconvert_exporter": "python",
   "pygments_lexer": "ipython3",
   "version": "3.12.0"
  }
 },
 "nbformat": 4,
 "nbformat_minor": 2
}