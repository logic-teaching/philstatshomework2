{
 "cells": [
  {
   "cell_type": "markdown",
   "metadata": {},
   "source": [
    "# Problem 10"
   ]
  },
  {
   "cell_type": "markdown",
   "metadata": {},
   "source": [
    "This problem is about the probabilities of [Type I and Type II errors](https://logic-teaching.github.io/philstatsbook/Chap07.html#two-types-of-error):\n",
    "\n",
    "1. Probability of a Type I Error is low iff, under the assumption that the null hypothesis $H_0$ is true, the probability of the event $T_n\\geq c$ is low.\n",
    "\n",
    "2. Probability of Type II Error is low iff, under the assumption that the null hypothesis $H_0$ is false, the probability of the event $T_n<c$ is low.\n",
    "\n",
    "Neyman and Pearson thought in terms of behavior rather than knowledge, justification, and belief, but contemporary philosophy inevitably tends to focus on the latter trio anytime that inference is involved. Hence, if we think about $T_n< c$ as the chief and only consideration relevant for belief in $H_0$, then these become:\n",
    "\n",
    "3. The probability of a Type I error is low iff, under the assumption that the null hypothesis $H_0$ is true, it is highly probable that one believes $H_0$.\n",
    "\n",
    "4. The probability of a Type II error is low iff, under the assumption that the null hypothesis $H_0$ is false, it is highly probable that one does not believe $H_0$.\n",
    "\n",
    "There is then a certain 'family resemblence' to Nozick's tracking theory of knowledge, where one's knowledge of $H_0$ is characterized as one's belief in $H_0$ plus the truth of $H_0$ plus the conjunction of the following two conditions:\n",
    "\n",
    "5. Adherence: if $H_0$ were true, then one would believe $H_0$.\n",
    "\n",
    "6. Sensitivity: if $H_0$ were false, then one would not believe $H_0$.\n",
    "\n",
    "Nozick wrote of this:\n",
    "\n",
    "> The tracking account of knowledge was formulated without having statistical errors in mind, but [sensitivity and adherence] can be (roughly) put as: the person wouldn't commit a type II error about $[H_0]$, and he wouldn't commit a type I error about $[H_0]$. In contrast to Neyman-Pearson testing, our discussion of knowledge [...] seemed to making avoiding Type II errors more crucial than avoiding type I errors, so that in their [the statistician's] terminology, [the probability of a type II error] should be fixed as [low], and the [probability of a type I error] minimized subject to that ({cite}`Nozick1983-lf` pp. 260-261 fn).\n",
    "\n",
    "Choose one of the following two prompts and write a 1 paragraph response:\n",
    "\n",
    "1. Choose either [Chapter 7 Example 1](https://logic-teaching.github.io/philstatsbook/Chap07.html#example-1-revisited) or [Chapter 7 Example 2](https://logic-teaching.github.io/philstatsbook/Chap07.html#example-2-revisited) and use it to evaluate the plausibility of Nozick's suggestion of: first ensure that the probability of a type II error is low and then subsequently minimize the probability of a type I error.\n",
    "\n",
    "2. Argue that Nozick is wrong to suggest that there is a connection of any kind between adherence and low probability of type I error and/or sensitivity and low probability of type II error.\n",
    "\n",
    "*Hint*: for prompt 1, make it more concrete by thinking about the trials not in terms of coins but in terms of success of procedures or interventions; and likewise make it more concrete by thinking about normal distributions in terms of measurements related to people which are high stakes so that it is important that we know where the center of the bell shape is.\n",
    "\n",
    "*Hint*: for prompt 2, try to restrict attention to the hypotheses $H_0$ which actually show up in hypotheses tests; obviously the fit disappears when we try to make the hypotheses into arbitrary propositions. \n",
    "\n",
    "*Note*: the purpose of this exercise is simply to get us to critical reflect on Type I and Type II errors mean by reference to more canonical notions in philosophy. \n",
    "\n"
   ]
  },
  {
   "cell_type": "markdown",
   "metadata": {},
   "source": []
  }
 ],
 "metadata": {
  "kernelspec": {
   "display_name": ".venv",
   "language": "python",
   "name": "python3"
  },
  "language_info": {
   "codemirror_mode": {
    "name": "ipython",
    "version": 3
   },
   "file_extension": ".py",
   "mimetype": "text/x-python",
   "name": "python",
   "nbconvert_exporter": "python",
   "pygments_lexer": "ipython3",
   "version": "3.11.7"
  }
 },
 "nbformat": 4,
 "nbformat_minor": 2
}