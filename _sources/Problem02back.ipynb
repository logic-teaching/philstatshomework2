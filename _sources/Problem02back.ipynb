{
 "cells": [
  {
   "cell_type": "code",
   "execution_count": 53,
   "metadata": {},
   "outputs": [],
   "source": [
    "import numpy as np\n",
    "import pandas as pd\n",
    "from scipy.stats import binom\n",
    "import matplotlib\n",
    "import matplotlib.pyplot as plt   \n",
    "import metakernel\n",
    "from IPython.display import display, Markdown, clear_output\n",
    "import ipywidgets as widgets    \n",
    "from ipywidgets import interact, interactive, fixed, interact_manual"
   ]
  },
  {
   "cell_type": "code",
   "execution_count": 54,
   "metadata": {},
   "outputs": [],
   "source": [
    "def find_two_largest_indices(list_of_lists, j):\n",
    "    # Convert the column at index j to a numpy array\n",
    "    column = np.array([row[j] for row in list_of_lists])\n",
    "\n",
    "    # Find the indices of the two largest values\n",
    "    indices = np.argpartition(column, -2)[-2:]\n",
    "\n",
    "    # Sort the indices so that the first index corresponds to the largest value\n",
    "    # and the second index corresponds to the second largest value\n",
    "    indices = indices[np.argsort(column[indices])][::-1]\n",
    "\n",
    "    return indices.tolist()"
   ]
  },
  {
   "cell_type": "code",
   "execution_count": 55,
   "metadata": {},
   "outputs": [],
   "source": [
    "# size_sample_space, size_parameter_space are positive integers\n",
    "# prior is list of length size_parameter_space of non-negative numbers that sum to 1\n",
    "# likelihood is a list of length size_parameter_space \n",
    "# where each element is a list of length size_sample_space numbers that sum to 1\n",
    "\n",
    "def bayes(size_sample_space,size_parameter_space,prior,likelihood, xlim0, xlim1, observed_value = None, ι = None):\n",
    "\n",
    "\n",
    "    sample_space = list(range(size_sample_space))\n",
    "\n",
    "    parameter_space = list(range(size_parameter_space))\n",
    "\n",
    "\n",
    "    max_value = max(max(sublist) for sublist in likelihood)\n",
    "\n",
    "\n",
    "    evidence =  []\n",
    "\n",
    "    for j in sample_space:\n",
    "        evidence.append(sum([prior[i]*likelihood[i][j] for i in parameter_space]))\n",
    "\n",
    "\n",
    "\n",
    "    posterior = [[None]*size_sample_space for _ in range(size_parameter_space)]\n",
    "\n",
    "    posteriorupvalue= [[None]*size_parameter_space for _ in range(size_sample_space)]\n",
    "\n",
    "    for i in parameter_space:\n",
    "        for j in sample_space:\n",
    "            posterior[i][j] = ((likelihood[i][j]*prior[i]) / (evidence[j]+ 1e-10))\n",
    "\n",
    "    for j in sample_space:\n",
    "        for i in parameter_space:\n",
    "            posteriorupvalue[j][i] = sum([posterior[i1][j] for i1 in parameter_space if i1 > i])\n",
    "\n",
    "    fig, axs = plt.subplots(1, 3, figsize=(10, 5))  # 1 row, 3 columns\n",
    "\n",
    "\n",
    "\n",
    "    for i in parameter_space:\n",
    "        line, = axs[0].plot(sample_space, likelihood[i])\n",
    "    axs[0].plot(sample_space, evidence, '--', label='evidence', color='purple')        \n",
    "    axs[0].set_ylim(0, max_value+max_value/10)\n",
    "    axs[0].set_xlim(0, xlim0)    \n",
    "    axs[0].set_title('likelihood p(x | $\\\\theta$)')\n",
    "    axs[0].legend()\n",
    "    axs[0].legend(loc='upper right')\n",
    "    axs[0].set_xticks(np.round(np.linspace(0, xlim1, num=11), 0))\n",
    "    axs[0].tick_params(axis='x', labelsize=5)          \n",
    "\n",
    "    for i in parameter_space:\n",
    "        axs[1].plot(sample_space, posterior[i]) \n",
    "    if observed_value != None:\n",
    "        axs[1].axvline(x=observed_value, color='black', linestyle='--', label='x')            \n",
    "        indices = find_two_largest_indices(posterior, observed_value)\n",
    "        axs[1].axhline(y=posterior[indices[0]][observed_value], color='#ffd700', linestyle='--', label='1st')  \n",
    "        axs[1].axhline(y=posterior[indices[1]][observed_value], color='#C0C0C0', linestyle='--', label='2nd')  \n",
    "    axs[1].legend()\n",
    "    axs[1].legend(loc='upper right')\n",
    "\n",
    "    axs[1].set_ylim(0, 1.1)\n",
    "    axs[1].set_title('posterior p($\\\\theta$  | x)')\n",
    "    axs[1].set_xlim(0, xlim1)    \n",
    "    axs[1].set_yticks([0, .1, .2, .3, .4, .5, .6, .7, .8, .9, 1])\n",
    "    axs[1].set_xticks(np.round(np.linspace(0, xlim1, num=11), 0))  \n",
    "    axs[1].tick_params(axis='x', labelsize=5)    \n",
    "\n",
    "    if ι != None:\n",
    "        axs[2].axvline(x=ι, color='g', linestyle='--', label='ι') \n",
    "        axs[2].axhline(y=posteriorupvalue[observed_value][ι], color='red', linestyle='--')               \n",
    "    axs[2].plot(parameter_space, posteriorupvalue[observed_value]) \n",
    "    axs[2].set_title('Pr($\\\\theta> \\\\iota$  | x), $\\\\iota$ is Binom(%i, %1.2f)' % (size_sample_space-1, (ι+1)/(size_parameter_space+1))) \n",
    "    axs[2].set_yticks([0, .1, .2, .3, .4, .5, .6, .7, .8, .9, 1])    \n",
    "    axs[2].legend()\n",
    "    axs[2].set_ylim(0, 1.1)    \n",
    "    axs[2].legend(loc='center right')    \n",
    "\n",
    "    return posterior\n",
    "\n"
   ]
  },
  {
   "cell_type": "code",
   "execution_count": 56,
   "metadata": {},
   "outputs": [],
   "source": [
    "def bayes_binomials(n,m, prior, observed_value = None, ι=None):\n",
    "\n",
    "\n",
    "    my_sample_space = np.arange(0, n+1)\n",
    "\n",
    "    my_parameter_space = np.arange(0, m)\n",
    "\n",
    "    my_likelihood = [[None]*m for _ in range(m)]\n",
    "\n",
    "    for i in range(m):\n",
    "\n",
    "        my_likelihood[i] = binom.pmf(my_sample_space, n, (i+1)/(m+1))\n",
    "\n",
    "    bayes(n+1,m,prior,my_likelihood, n, n, observed_value, ι)\n"
   ]
  },
  {
   "cell_type": "code",
   "execution_count": 57,
   "metadata": {},
   "outputs": [],
   "source": [
    "def bayes_binomials_uniform_prior(n,m, x = None, ι = None):\n",
    "\n",
    "    \n",
    "\n",
    "    prior = [1/(m+1)]*(m)\n",
    "\n",
    "    bayes_binomials(n,m,prior, x, ι)"
   ]
  },
  {
   "cell_type": "code",
   "execution_count": 58,
   "metadata": {},
   "outputs": [],
   "source": [
    "def update_x_range(*args):\n",
    "    x_slider.max = n_slider.value\n",
    "\n",
    "def update_ι_range(*args):\n",
    "    ι_slider.max = m_slider.value - 1"
   ]
  },
  {
   "cell_type": "code",
   "execution_count": 59,
   "metadata": {},
   "outputs": [
    {
     "data": {
      "application/vnd.jupyter.widget-view+json": {
       "model_id": "bdf0fafd8dad4d2396a0dffd9a82c83c",
       "version_major": 2,
       "version_minor": 0
      },
      "text/plain": [
       "interactive(children=(IntSlider(value=100, description='n', max=5000, min=1), IntSlider(value=9, description='…"
      ]
     },
     "metadata": {},
     "output_type": "display_data"
    },
    {
     "data": {
      "text/plain": [
       "<function __main__.bayes_binomials_uniform_prior(n, m, x=None, ι=None)>"
      ]
     },
     "execution_count": 59,
     "metadata": {},
     "output_type": "execute_result"
    }
   ],
   "source": [
    "n_slider = widgets.IntSlider(min=1, max=5000, step=1, value=100)\n",
    "m_slider = widgets.IntSlider(min=1, max=99, step=1, value=9)\n",
    "x_slider = widgets.IntSlider(min=1, max=n_slider.value, step=1, value=40)\n",
    "ι_slider = widgets.IntSlider(min=1, max=m_slider.value - 1, step=0, value=3)\n",
    "\n",
    "n_slider.observe(update_x_range, 'value')\n",
    "m_slider.observe(update_ι_range, 'value')\n",
    "\n",
    "\n",
    "interact(bayes_binomials_uniform_prior, n=n_slider, m=m_slider, x=x_slider, ι=ι_slider)\n"
   ]
  }
 ],
 "metadata": {
  "kernelspec": {
   "display_name": ".venv",
   "language": "python",
   "name": "python3"
  },
  "language_info": {
   "codemirror_mode": {
    "name": "ipython",
    "version": 3
   },
   "file_extension": ".py",
   "mimetype": "text/x-python",
   "name": "python",
   "nbconvert_exporter": "python",
   "pygments_lexer": "ipython3",
   "version": "3.12.3"
  }
 },
 "nbformat": 4,
 "nbformat_minor": 2
}
